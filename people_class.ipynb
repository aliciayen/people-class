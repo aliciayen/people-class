{
 "cells": [
  {
   "cell_type": "code",
   "execution_count": 1,
   "metadata": {},
   "outputs": [],
   "source": [
    "# Lab 3 - Python II - Alicia Yen"
   ]
  },
  {
   "cell_type": "code",
   "execution_count": 1,
   "metadata": {},
   "outputs": [],
   "source": [
    "from functools import reduce"
   ]
  },
  {
   "cell_type": "code",
   "execution_count": 2,
   "metadata": {},
   "outputs": [],
   "source": [
    "class Student(object):\n",
    "    def __init__(self, id, lastName, firstName, courses=None):\n",
    "        self.id = id\n",
    "        self.lastName = lastName\n",
    "        self.firstName = firstName\n",
    "        if courses == None:\n",
    "            self.courses = dict()\n",
    "        else:\n",
    "            assert type(courses) is dict, \"Courses must be a dictionary\"\n",
    "            for v in courses.values():\n",
    "                assert type(v) is int or type(v) is float, \"Value must be a number (ex: 0.00 - 4.00)\"\n",
    "                assert v >= 0 and v <= 4, \"Value must be between 0 and 4\"\n",
    "            self.courses = courses\n",
    "\n",
    "    @property \n",
    "    def gpa(self):\n",
    "        if bool(self.courses):\n",
    "            count = len(self.courses)\n",
    "            cumulative = reduce((lambda x,y: x+y), [grades for grades in self.courses.values()]) \n",
    "            return cumulative / count\n",
    "        else:\n",
    "            return 0.00\n",
    "    \n",
    "    def addCourse(self, course, score):\n",
    "        assert type(score) is int or type(score) is float, \"Value must be a number (ex: 0.00 - 4.00)\"\n",
    "        assert score >= 0 and score <= 4, \"Value must be between 0 and 4\"\n",
    "        self.courses[course] = score\n",
    "        \n",
    "    def addCourses(self, courses):\n",
    "        assert type(courses) is dict, \"Courses must be a dictionary\"\n",
    "        self.courses.update(courses)\n",
    "        \n",
    "    def __str__(self):\n",
    "        course_list = list(self.courses)\n",
    "        return f\"{self.id:<9} {self.lastName:<12} {self.firstName:<12} {self.gpa:<7,.3f} {', '.join(str(c) for c in course_list):<20}\"\n",
    "    \n",
    "    def __repr__(self):\n",
    "        return f\"{self.id}, {self.lastName}, {self.firstName}, {self.courses}\"\n",
    "    \n",
    "    def header():\n",
    "        return f\"{'ID':<9} {'Last Name':<12} {'First Name':<12} {'GPA':<7} {'Courses':<20} \\n{'='*90}\"\n",
    "    \n",
    "    def printStudents(students):\n",
    "        print(Student.header())\n",
    "        for s in students:\n",
    "            print(s)"
   ]
  },
  {
   "cell_type": "code",
   "execution_count": 3,
   "metadata": {},
   "outputs": [],
   "source": [
    "students = []\n",
    "s1 = Student(123456, \"Smith\", \"Johnnie\")\n",
    "s2 = Student(234567, \"Strauss\", \"Jamie\")\n",
    "s3 = Student(345678, \"O'Neill\", \"Jack\")\n",
    "s4 = Student(456789, \"Marks\", \"Susie\")\n",
    "s5 = Student(567890, \"Marks\", \"Frank\")\n",
    "s6 = Student(654321, \"Marks\", \"Annie\")\n",
    "s7 = Student(456987, \"Smith\", \"John\", {'CSE-101': 2.50, 'CSE-103': 3.00, 'CSE-210': 3.50, 'CSE-260': 4.00})\n",
    "s8 = Student(987456, \"Smith\", \"Judy\", {'CSE-102': 4.00, 'CSE-103': 4.00, 'CSE-201': 3.00, 'CSE-210': 3.50, 'CSE-310': 4.00})\n",
    "s9 = Student(111354, \"Williams\", \"Kelly\", {'CSE-101': 3.50, 'CSE-102': 3.50, 'CSE-201': 3.00, 'CSE-202': 3.50, 'CSE-203': 3.50})\n",
    "s10 = Student(995511, \"Williams\", \"Brad\", {'CSE-102': 3.00, 'CSE-110': 3.50, 'CSE-125': 3.50, 'CSE-201': 4.00, 'CSE-203': 3.00})"
   ]
  },
  {
   "cell_type": "code",
   "execution_count": 4,
   "metadata": {},
   "outputs": [],
   "source": [
    "s1.addCourse('CSE-101', 3.50)\n",
    "s1.addCourse('CSE-102', 3.00)\n",
    "s1.addCourse('CSE-201', 4.00)\n",
    "s1.addCourse('CSE-220', 3.75)\n",
    "s1.addCourse('CSE-325', 4.00)"
   ]
  },
  {
   "cell_type": "code",
   "execution_count": 5,
   "metadata": {},
   "outputs": [],
   "source": [
    "s2.addCourse('CSE-101', 3.00)\n",
    "s2.addCourse('CSE-103', 3.50)\n",
    "s2.addCourse('CSE-202', 3.25)\n",
    "s2.addCourse('CSE-220', 4.00)\n",
    "s2.addCourse('CSE-401', 4.00)"
   ]
  },
  {
   "cell_type": "code",
   "execution_count": 6,
   "metadata": {},
   "outputs": [],
   "source": [
    "s3.addCourse('CSE-101',2.50)\n",
    "s3.addCourse('CSE-102',3.50)\n",
    "s3.addCourse('CSE-103',3.00)\n",
    "s3.addCourse('CSE-104',4.00)"
   ]
  },
  {
   "cell_type": "code",
   "execution_count": 7,
   "metadata": {},
   "outputs": [],
   "source": [
    "s4.addCourses({'CSE-101': 4.00, 'CSE-103': 2.50, 'CSE-301': 3.50, 'CSE-302': 3.00, 'CSE-310': 4.00})"
   ]
  },
  {
   "cell_type": "code",
   "execution_count": 8,
   "metadata": {},
   "outputs": [],
   "source": [
    "s5.addCourses({'CSE-102': 4.00, 'CSE-104': 3.50, 'CSE-201': 2.50, 'CSE-202': 3.50, 'CSE-203': 3.00})"
   ]
  },
  {
   "cell_type": "code",
   "execution_count": 9,
   "metadata": {},
   "outputs": [],
   "source": [
    "s6.addCourses({'CSE-101': 4.00, 'CSE-102': 4.00, 'CSE-103': 3.50, 'CSE-201': 4.00, 'CSE-203': 4.00})"
   ]
  },
  {
   "cell_type": "code",
   "execution_count": 10,
   "metadata": {},
   "outputs": [],
   "source": [
    "students.append(s1)\n",
    "students.append(s2)\n",
    "students.append(s3)\n",
    "students.append(s4)\n",
    "students.append(s5)\n",
    "students.append(s6)\n",
    "students.append(s7)\n",
    "students.append(s8)\n",
    "students.append(s9)\n",
    "students.append(s10)"
   ]
  },
  {
   "cell_type": "code",
   "execution_count": 11,
   "metadata": {},
   "outputs": [
    {
     "name": "stdout",
     "output_type": "stream",
     "text": [
      "ID        Last Name    First Name   GPA     Courses              \n",
      "==========================================================================================\n",
      "123456    Smith        Johnnie      3.650   CSE-101, CSE-102, CSE-201, CSE-220, CSE-325\n",
      "234567    Strauss      Jamie        3.550   CSE-101, CSE-103, CSE-202, CSE-220, CSE-401\n",
      "345678    O'Neill      Jack         3.250   CSE-101, CSE-102, CSE-103, CSE-104\n",
      "456789    Marks        Susie        3.400   CSE-101, CSE-103, CSE-301, CSE-302, CSE-310\n",
      "567890    Marks        Frank        3.300   CSE-102, CSE-104, CSE-201, CSE-202, CSE-203\n",
      "654321    Marks        Annie        3.900   CSE-101, CSE-102, CSE-103, CSE-201, CSE-203\n",
      "456987    Smith        John         3.250   CSE-101, CSE-103, CSE-210, CSE-260\n",
      "987456    Smith        Judy         3.700   CSE-102, CSE-103, CSE-201, CSE-210, CSE-310\n",
      "111354    Williams     Kelly        3.400   CSE-101, CSE-102, CSE-201, CSE-202, CSE-203\n",
      "995511    Williams     Brad         3.400   CSE-102, CSE-110, CSE-125, CSE-201, CSE-203\n"
     ]
    }
   ],
   "source": [
    "Student.printStudents(students)"
   ]
  },
  {
   "cell_type": "code",
   "execution_count": 12,
   "metadata": {},
   "outputs": [
    {
     "name": "stdout",
     "output_type": "stream",
     "text": [
      "ID        Last Name    First Name   GPA     Courses              \n",
      "==========================================================================================\n",
      "654321    Marks        Annie        3.900   CSE-101, CSE-102, CSE-103, CSE-201, CSE-203\n",
      "567890    Marks        Frank        3.300   CSE-102, CSE-104, CSE-201, CSE-202, CSE-203\n",
      "456789    Marks        Susie        3.400   CSE-101, CSE-103, CSE-301, CSE-302, CSE-310\n",
      "345678    O'Neill      Jack         3.250   CSE-101, CSE-102, CSE-103, CSE-104\n",
      "456987    Smith        John         3.250   CSE-101, CSE-103, CSE-210, CSE-260\n",
      "123456    Smith        Johnnie      3.650   CSE-101, CSE-102, CSE-201, CSE-220, CSE-325\n",
      "987456    Smith        Judy         3.700   CSE-102, CSE-103, CSE-201, CSE-210, CSE-310\n",
      "234567    Strauss      Jamie        3.550   CSE-101, CSE-103, CSE-202, CSE-220, CSE-401\n",
      "995511    Williams     Brad         3.400   CSE-102, CSE-110, CSE-125, CSE-201, CSE-203\n",
      "111354    Williams     Kelly        3.400   CSE-101, CSE-102, CSE-201, CSE-202, CSE-203\n"
     ]
    }
   ],
   "source": [
    "students.sort(key=lambda x: (x.lastName, x.firstName))\n",
    "Student.printStudents(students)"
   ]
  },
  {
   "cell_type": "code",
   "execution_count": 13,
   "metadata": {},
   "outputs": [
    {
     "name": "stdout",
     "output_type": "stream",
     "text": [
      "ID        Last Name    First Name   GPA     Courses              \n",
      "==========================================================================================\n",
      "654321    Marks        Annie        3.900   CSE-101, CSE-102, CSE-103, CSE-201, CSE-203\n",
      "987456    Smith        Judy         3.700   CSE-102, CSE-103, CSE-201, CSE-210, CSE-310\n",
      "123456    Smith        Johnnie      3.650   CSE-101, CSE-102, CSE-201, CSE-220, CSE-325\n",
      "234567    Strauss      Jamie        3.550   CSE-101, CSE-103, CSE-202, CSE-220, CSE-401\n",
      "456789    Marks        Susie        3.400   CSE-101, CSE-103, CSE-301, CSE-302, CSE-310\n",
      "995511    Williams     Brad         3.400   CSE-102, CSE-110, CSE-125, CSE-201, CSE-203\n",
      "111354    Williams     Kelly        3.400   CSE-101, CSE-102, CSE-201, CSE-202, CSE-203\n",
      "567890    Marks        Frank        3.300   CSE-102, CSE-104, CSE-201, CSE-202, CSE-203\n",
      "345678    O'Neill      Jack         3.250   CSE-101, CSE-102, CSE-103, CSE-104\n",
      "456987    Smith        John         3.250   CSE-101, CSE-103, CSE-210, CSE-260\n"
     ]
    }
   ],
   "source": [
    "students.sort(key=lambda x: x.gpa, reverse=True)\n",
    "Student.printStudents(students)"
   ]
  },
  {
   "cell_type": "code",
   "execution_count": 14,
   "metadata": {},
   "outputs": [
    {
     "name": "stdout",
     "output_type": "stream",
     "text": [
      "{'CSE-101', 'CSE-401', 'CSE-110', 'CSE-104', 'CSE-210', 'CSE-203', 'CSE-260', 'CSE-201', 'CSE-302', 'CSE-325', 'CSE-125', 'CSE-103', 'CSE-202', 'CSE-301', 'CSE-220', 'CSE-310', 'CSE-102'}\n",
      "17\n"
     ]
    }
   ],
   "source": [
    "unique_courses = {courses for pupil in students for courses in pupil.courses}\n",
    "print(unique_courses)\n",
    "print(len(unique_courses))"
   ]
  },
  {
   "cell_type": "code",
   "execution_count": 15,
   "metadata": {},
   "outputs": [
    {
     "name": "stdout",
     "output_type": "stream",
     "text": [
      "ID        Last Name    First Name   GPA     Courses              \n",
      "==========================================================================================\n",
      "654321    Marks        Annie        3.900   CSE-101, CSE-102, CSE-103, CSE-201, CSE-203\n",
      "987456    Smith        Judy         3.700   CSE-102, CSE-103, CSE-201, CSE-210, CSE-310\n",
      "123456    Smith        Johnnie      3.650   CSE-101, CSE-102, CSE-201, CSE-220, CSE-325\n",
      "995511    Williams     Brad         3.400   CSE-102, CSE-110, CSE-125, CSE-201, CSE-203\n",
      "111354    Williams     Kelly        3.400   CSE-101, CSE-102, CSE-201, CSE-202, CSE-203\n",
      "567890    Marks        Frank        3.300   CSE-102, CSE-104, CSE-201, CSE-202, CSE-203\n"
     ]
    }
   ],
   "source": [
    "cse_201_students = [\n",
    "    pupil\n",
    "    for pupil in students\n",
    "    for courses in pupil.courses\n",
    "    if 'CSE-201' in courses\n",
    "]\n",
    "\n",
    "Student.printStudents(cse_201_students)"
   ]
  },
  {
   "cell_type": "code",
   "execution_count": 16,
   "metadata": {},
   "outputs": [
    {
     "name": "stdout",
     "output_type": "stream",
     "text": [
      "ID        Last Name    First Name   GPA     Courses              \n",
      "==========================================================================================\n",
      "654321    Marks        Annie        3.900   CSE-101, CSE-102, CSE-103, CSE-201, CSE-203\n",
      "987456    Smith        Judy         3.700   CSE-102, CSE-103, CSE-201, CSE-210, CSE-310\n",
      "123456    Smith        Johnnie      3.650   CSE-101, CSE-102, CSE-201, CSE-220, CSE-325\n",
      "234567    Strauss      Jamie        3.550   CSE-101, CSE-103, CSE-202, CSE-220, CSE-401\n"
     ]
    }
   ],
   "source": [
    "honor_roll = [\n",
    "    pupil\n",
    "    for pupil in students\n",
    "    if pupil.gpa >= 3.50\n",
    "]\n",
    "\n",
    "Student.printStudents(honor_roll)\n"
   ]
  },
  {
   "cell_type": "code",
   "execution_count": null,
   "metadata": {},
   "outputs": [],
   "source": []
  }
 ],
 "metadata": {
  "kernelspec": {
   "display_name": "Python 3",
   "language": "python",
   "name": "python3"
  },
  "language_info": {
   "codemirror_mode": {
    "name": "ipython",
    "version": 3
   },
   "file_extension": ".py",
   "mimetype": "text/x-python",
   "name": "python",
   "nbconvert_exporter": "python",
   "pygments_lexer": "ipython3",
   "version": "3.7.1"
  }
 },
 "nbformat": 4,
 "nbformat_minor": 2
}
